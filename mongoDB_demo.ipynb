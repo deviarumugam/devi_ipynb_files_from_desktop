{
 "cells": [
  {
   "cell_type": "code",
   "execution_count": 1,
   "metadata": {},
   "outputs": [],
   "source": [
    "import pymongo"
   ]
  },
  {
   "cell_type": "code",
   "execution_count": 4,
   "metadata": {},
   "outputs": [],
   "source": [
    "dbConn=pymongo.MongoClient('mongodb://127.0.0.1:27017/')"
   ]
  },
  {
   "cell_type": "code",
   "execution_count": 13,
   "metadata": {},
   "outputs": [],
   "source": [
    "dbname='demodb'\n",
    "db=dbConn[dbname]"
   ]
  },
  {
   "cell_type": "code",
   "execution_count": 14,
   "metadata": {},
   "outputs": [
    {
     "name": "stdout",
     "output_type": "stream",
     "text": [
      "['admin', 'config', 'local']\n"
     ]
    }
   ],
   "source": [
    "print(dbConn.list_database_names())"
   ]
  },
  {
   "cell_type": "code",
   "execution_count": 17,
   "metadata": {},
   "outputs": [
    {
     "name": "stdout",
     "output_type": "stream",
     "text": [
      "db yes\n"
     ]
    }
   ],
   "source": [
    "dblist=dbConn.list_database_names()\n",
    "dbname='demodb'\n",
    "if dblist.index(dbname)==-1:\n",
    "    print(\"The db is exist\")\n",
    "else:\n",
    "    print(\"The db is not exist\")\n"
   ]
  },
  {
   "cell_type": "code",
   "execution_count": 18,
   "metadata": {},
   "outputs": [],
   "source": [
    "collection_name='mongo_demo'\n",
    "collection=db[collection_name]"
   ]
  },
  {
   "cell_type": "code",
   "execution_count": 20,
   "metadata": {},
   "outputs": [
    {
     "name": "stdout",
     "output_type": "stream",
     "text": [
      "yes\n"
     ]
    }
   ],
   "source": [
    "if collection_name in db.list_collection_names():\n",
    "    print(\"The collection exist\")\n",
    "else:\n",
    "    print(\"The collection is not exist\")"
   ]
  },
  {
   "cell_type": "code",
   "execution_count": 22,
   "metadata": {},
   "outputs": [],
   "source": [
    "my_row={'serial_no':'1','gre_no':'337','tofel_score':'118','univerity_rank':'2'}"
   ]
  },
  {
   "cell_type": "code",
   "execution_count": 24,
   "metadata": {},
   "outputs": [],
   "source": [
    "x=collection.insert_one(my_row)"
   ]
  },
  {
   "cell_type": "code",
   "execution_count": 25,
   "metadata": {},
   "outputs": [
    {
     "name": "stdout",
     "output_type": "stream",
     "text": [
      "5eadda6ff119bd9cc96a7128\n"
     ]
    }
   ],
   "source": [
    "print(x.inserted_id)"
   ]
  },
  {
   "cell_type": "code",
   "execution_count": 26,
   "metadata": {},
   "outputs": [],
   "source": [
    "my_row={'serial_no':'2','gre_no':'338','tofel_score':'119','univerity_rank':'3'}"
   ]
  },
  {
   "cell_type": "code",
   "execution_count": 27,
   "metadata": {},
   "outputs": [],
   "source": [
    "x=collection.insert_one(my_row)"
   ]
  },
  {
   "cell_type": "code",
   "execution_count": 28,
   "metadata": {},
   "outputs": [],
   "source": [
    "my_row=[{'serial_no':'3','gre_no':'339','tofel_score':'120','univerity_rank':'4'},\n",
    "        {'serial_no':'4','gre_no':'340','tofel_score':'121','univerity_rank':'5'},\n",
    "        {'serial_no':'5','gre_no':'341','tofel_score':'122','university_rank':'6'}]"
   ]
  },
  {
   "cell_type": "code",
   "execution_count": 29,
   "metadata": {},
   "outputs": [],
   "source": [
    "x=collection.insert_many(my_row)"
   ]
  },
  {
   "cell_type": "code",
   "execution_count": 31,
   "metadata": {},
   "outputs": [
    {
     "name": "stdout",
     "output_type": "stream",
     "text": [
      "[ObjectId('5eadde32f119bd9cc96a712a'), ObjectId('5eadde32f119bd9cc96a712b'), ObjectId('5eadde32f119bd9cc96a712c')]\n"
     ]
    }
   ],
   "source": [
    "print(x.inserted_ids)"
   ]
  },
  {
   "cell_type": "code",
   "execution_count": 32,
   "metadata": {},
   "outputs": [
    {
     "data": {
      "text/plain": [
       "{'_id': ObjectId('5eadde32f119bd9cc96a712b'),\n",
       " 'serial_no': '4',\n",
       " 'gre_no': '340',\n",
       " 'tofel_score': '121',\n",
       " 'univerity_rank': '5'}"
      ]
     },
     "execution_count": 32,
     "metadata": {},
     "output_type": "execute_result"
    }
   ],
   "source": [
    "result=collection.find({})\n",
    "result[3]"
   ]
  },
  {
   "cell_type": "code",
   "execution_count": 34,
   "metadata": {},
   "outputs": [
    {
     "name": "stdout",
     "output_type": "stream",
     "text": [
      "{'_id': ObjectId('5eadda6ff119bd9cc96a7128'), 'serial_no': '1', 'gre_no': '337', 'tofel_score': '118', 'univerity_rank': '2'}\n",
      "{'_id': ObjectId('5eaddaf1f119bd9cc96a7129'), 'serial_no': '2', 'gre_no': '338', 'tofel_score': '119', 'univerity_rank': '3'}\n"
     ]
    }
   ],
   "source": [
    "result_total=collection.find({}).limit(2)\n",
    "for res in result_total:\n",
    "    print(res)"
   ]
  },
  {
   "cell_type": "code",
   "execution_count": 37,
   "metadata": {},
   "outputs": [
    {
     "name": "stdout",
     "output_type": "stream",
     "text": [
      "{'_id': ObjectId('5eadda6ff119bd9cc96a7128'), 'gre_no': '337', 'tofel_score': '118'}\n",
      "{'_id': ObjectId('5eaddaf1f119bd9cc96a7129'), 'gre_no': '338', 'tofel_score': '119'}\n"
     ]
    }
   ],
   "source": [
    "result_some=collection.find({},{'gre_no','tofel_score'}).limit(2)\n",
    "for res in result_some:\n",
    "    print(res)"
   ]
  },
  {
   "cell_type": "code",
   "execution_count": 40,
   "metadata": {},
   "outputs": [
    {
     "name": "stdout",
     "output_type": "stream",
     "text": [
      "{'_id': ObjectId('5eadda6ff119bd9cc96a7128'), 'serial_no': '1', 'gre_no': '337', 'tofel_score': '118', 'univerity_rank': '2'}\n"
     ]
    }
   ],
   "source": [
    "my_query={'gre_no':'337'}\n",
    "result_gre=collection.find(my_query)\n",
    "for res in result_gre:\n",
    "    print(res)"
   ]
  },
  {
   "cell_type": "code",
   "execution_count": 42,
   "metadata": {},
   "outputs": [
    {
     "name": "stdout",
     "output_type": "stream",
     "text": [
      "{'_id': ObjectId('5eaddaf1f119bd9cc96a7129'), 'serial_no': '2', 'gre_no': '338', 'tofel_score': '119', 'univerity_rank': '3'}\n",
      "{'_id': ObjectId('5eadde32f119bd9cc96a712a'), 'serial_no': '3', 'gre_no': '339', 'tofel_score': '120', 'univerity_rank': '4'}\n",
      "{'_id': ObjectId('5eadde32f119bd9cc96a712b'), 'serial_no': '4', 'gre_no': '340', 'tofel_score': '121', 'univerity_rank': '5'}\n",
      "{'_id': ObjectId('5eadde32f119bd9cc96a712c'), 'serial_no': '5', 'gre_no': '341', 'tofel_score': '122', 'university_rank': '6'}\n"
     ]
    }
   ],
   "source": [
    "my_query={'gre_no':{'$gt':'337'}}\n",
    "result_gre=collection.find(my_query)\n",
    "for res in result_gre:\n",
    "    print(res)"
   ]
  },
  {
   "cell_type": "code",
   "execution_count": 44,
   "metadata": {},
   "outputs": [
    {
     "name": "stdout",
     "output_type": "stream",
     "text": [
      "{'_id': ObjectId('5eaddaf1f119bd9cc96a7129'), 'serial_no': '2', 'gre_no': '338', 'tofel_score': '119', 'univerity_rank': '3'}\n",
      "{'_id': ObjectId('5eadde32f119bd9cc96a712a'), 'serial_no': '3', 'gre_no': '339', 'tofel_score': '120', 'univerity_rank': '4'}\n",
      "{'_id': ObjectId('5eadde32f119bd9cc96a712b'), 'serial_no': '4', 'gre_no': '340', 'tofel_score': '121', 'univerity_rank': '5'}\n",
      "{'_id': ObjectId('5eadde32f119bd9cc96a712c'), 'serial_no': '5', 'gre_no': '341', 'tofel_score': '122', 'university_rank': '6'}\n"
     ]
    }
   ],
   "source": [
    "result_gre_sort=collection.find(my_query).sort('gre_no')\n",
    "for res in result_gre_sort:\n",
    "    print(res)"
   ]
  },
  {
   "cell_type": "code",
   "execution_count": 46,
   "metadata": {},
   "outputs": [
    {
     "name": "stdout",
     "output_type": "stream",
     "text": [
      "{'_id': ObjectId('5eadde32f119bd9cc96a712c'), 'serial_no': '5', 'gre_no': '341', 'tofel_score': '122', 'university_rank': '6'}\n",
      "{'_id': ObjectId('5eadde32f119bd9cc96a712b'), 'serial_no': '4', 'gre_no': '340', 'tofel_score': '121', 'univerity_rank': '5'}\n",
      "{'_id': ObjectId('5eadde32f119bd9cc96a712a'), 'serial_no': '3', 'gre_no': '339', 'tofel_score': '120', 'univerity_rank': '4'}\n",
      "{'_id': ObjectId('5eaddaf1f119bd9cc96a7129'), 'serial_no': '2', 'gre_no': '338', 'tofel_score': '119', 'univerity_rank': '3'}\n"
     ]
    }
   ],
   "source": [
    "result_gre_sort=collection.find(my_query).sort('gre_no',-1)\n",
    "for res in result_gre_sort:\n",
    "    print(res)"
   ]
  },
  {
   "cell_type": "code",
   "execution_count": 48,
   "metadata": {},
   "outputs": [
    {
     "name": "stdout",
     "output_type": "stream",
     "text": [
      "1\n"
     ]
    }
   ],
   "source": [
    "my_query={'gre_no':'338'}\n",
    "x=collection.delete_one(my_query)\n",
    "print(x.deleted_count)"
   ]
  },
  {
   "cell_type": "code",
   "execution_count": 49,
   "metadata": {},
   "outputs": [
    {
     "name": "stdout",
     "output_type": "stream",
     "text": [
      "1\n"
     ]
    }
   ],
   "source": [
    "update={'gre_no':'339'}\n",
    "new_value={\"$set\":{\"gre_no\":\"338\"}}\n",
    "x=collection.update_many(update,new_value)\n",
    "print(x.modified_count)"
   ]
  },
  {
   "cell_type": "code",
   "execution_count": null,
   "metadata": {},
   "outputs": [],
   "source": []
  }
 ],
 "metadata": {
  "kernelspec": {
   "display_name": "Python 3",
   "language": "python",
   "name": "python3"
  },
  "language_info": {
   "codemirror_mode": {
    "name": "ipython",
    "version": 3
   },
   "file_extension": ".py",
   "mimetype": "text/x-python",
   "name": "python",
   "nbconvert_exporter": "python",
   "pygments_lexer": "ipython3",
   "version": "3.7.4"
  }
 },
 "nbformat": 4,
 "nbformat_minor": 2
}
